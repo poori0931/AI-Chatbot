{
 "cells": [
  {
   "cell_type": "code",
   "execution_count": 36,
   "id": "5ffa556f-fbb7-4f7b-b51d-d346a83ec2e4",
   "metadata": {},
   "outputs": [],
   "source": [
    "import random"
   ]
  },
  {
   "cell_type": "code",
   "execution_count": 38,
   "id": "f064e8d7-c9e0-486a-87e8-c89806fead02",
   "metadata": {},
   "outputs": [],
   "source": [
    "responses = {\n",
    "    \"hi\": [\"Hello!\", \"Hi there!\", \"Hey!\"],\n",
    "    \"how are you\": [\"I'm just a bot, but I'm doing great!\", \"I'm fine, thanks!\"],\n",
    "    \"your name\": [\"I'm a simple AI chatbot!\", \"You can call me ChatBot!\"],\n",
    "    \"bye\": [\"Goodbye!\", \"See you later!\", \"Bye! Have a nice day!\"],\n",
    "    \"default\": [\"I'm not sure how to respond to that.\", \"Can you rephrase that?\"]\n",
    "    }"
   ]
  },
  {
   "cell_type": "code",
   "execution_count": 46,
   "id": "47b3ea2e-f099-488f-a092-e2dc0860b52c",
   "metadata": {},
   "outputs": [
    {
     "name": "stdout",
     "output_type": "stream",
     "text": [
      "Hello!Type bye to exit\n"
     ]
    },
    {
     "name": "stdin",
     "output_type": "stream",
     "text": [
      "have an intractive chat with chatbot: your name\n"
     ]
    },
    {
     "name": "stdout",
     "output_type": "stream",
     "text": [
      "ChatBot: I'm a simple AI chatbot!\n"
     ]
    },
    {
     "name": "stdin",
     "output_type": "stream",
     "text": [
      "have an intractive chat with chatbot: i love u\n"
     ]
    },
    {
     "name": "stdout",
     "output_type": "stream",
     "text": [
      "ChatBot: I'm not sure how to respond to that.\n"
     ]
    },
    {
     "name": "stdin",
     "output_type": "stream",
     "text": [
      "have an intractive chat with chatbot: bye\n"
     ]
    },
    {
     "name": "stdout",
     "output_type": "stream",
     "text": [
      "ChatBot: See you later!\n"
     ]
    }
   ],
   "source": [
    "def respond(user_input):\n",
    "    for i in responses.keys():\n",
    "        if i in user_input:\n",
    "            return random.choice(responses[i])\n",
    "    return random.choice(responses[\"default\"])\n",
    "print(\"Hello!Type bye to exit\")\n",
    "while True:\n",
    "    user_input=input(\"have an intractive chat with chatbot:\")\n",
    "    if(user_input.lower()==\"bye\"):\n",
    "        print(\"ChatBot:\",random.choice(responses[\"bye\"]))\n",
    "        break;\n",
    "    else:\n",
    "        print(\"ChatBot:\",respond(user_input.lower()))\n",
    "            "
   ]
  },
  {
   "cell_type": "code",
   "execution_count": null,
   "id": "3c7cd1e1-b109-4eaa-83e0-92469fd47b47",
   "metadata": {},
   "outputs": [],
   "source": []
  }
 ],
 "metadata": {
  "kernelspec": {
   "display_name": "Python [conda env:base] *",
   "language": "python",
   "name": "conda-base-py"
  },
  "language_info": {
   "codemirror_mode": {
    "name": "ipython",
    "version": 3
   },
   "file_extension": ".py",
   "mimetype": "text/x-python",
   "name": "python",
   "nbconvert_exporter": "python",
   "pygments_lexer": "ipython3",
   "version": "3.12.7"
  }
 },
 "nbformat": 4,
 "nbformat_minor": 5
}
